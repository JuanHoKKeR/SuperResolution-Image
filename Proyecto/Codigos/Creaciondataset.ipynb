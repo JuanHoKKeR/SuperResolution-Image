{
 "cells": [
  {
   "cell_type": "code",
   "execution_count": 1,
   "metadata": {},
   "outputs": [
    {
     "name": "stdout",
     "output_type": "stream",
     "text": [
      "Requirement already satisfied: deeplake in c:\\users\\lina-\\documents\\proyectocomputacion\\venv\\lib\\site-packages (3.9.9)\n",
      "Requirement already satisfied: numpy in c:\\users\\lina-\\documents\\proyectocomputacion\\venv\\lib\\site-packages (from deeplake) (1.26.4)\n",
      "Requirement already satisfied: pillow~=10.2.0 in c:\\users\\lina-\\documents\\proyectocomputacion\\venv\\lib\\site-packages (from deeplake) (10.2.0)\n",
      "Requirement already satisfied: boto3 in c:\\users\\lina-\\documents\\proyectocomputacion\\venv\\lib\\site-packages (from deeplake) (1.34.119)\n",
      "Requirement already satisfied: click in c:\\users\\lina-\\documents\\proyectocomputacion\\venv\\lib\\site-packages (from deeplake) (8.1.7)\n",
      "Requirement already satisfied: pathos in c:\\users\\lina-\\documents\\proyectocomputacion\\venv\\lib\\site-packages (from deeplake) (0.3.2)\n",
      "Requirement already satisfied: humbug>=0.3.1 in c:\\users\\lina-\\documents\\proyectocomputacion\\venv\\lib\\site-packages (from deeplake) (0.3.2)\n",
      "Requirement already satisfied: tqdm in c:\\users\\lina-\\documents\\proyectocomputacion\\venv\\lib\\site-packages (from deeplake) (4.66.4)\n",
      "Requirement already satisfied: lz4 in c:\\users\\lina-\\documents\\proyectocomputacion\\venv\\lib\\site-packages (from deeplake) (4.3.3)\n",
      "Requirement already satisfied: pyjwt in c:\\users\\lina-\\documents\\proyectocomputacion\\venv\\lib\\site-packages (from deeplake) (2.8.0)\n",
      "Requirement already satisfied: pydantic in c:\\users\\lina-\\documents\\proyectocomputacion\\venv\\lib\\site-packages (from deeplake) (2.7.3)\n",
      "Requirement already satisfied: requests in c:\\users\\lina-\\documents\\proyectocomputacion\\venv\\lib\\site-packages (from humbug>=0.3.1->deeplake) (2.32.3)\n",
      "Requirement already satisfied: botocore<1.35.0,>=1.34.119 in c:\\users\\lina-\\documents\\proyectocomputacion\\venv\\lib\\site-packages (from boto3->deeplake) (1.34.119)\n",
      "Requirement already satisfied: jmespath<2.0.0,>=0.7.1 in c:\\users\\lina-\\documents\\proyectocomputacion\\venv\\lib\\site-packages (from boto3->deeplake) (1.0.1)\n",
      "Requirement already satisfied: s3transfer<0.11.0,>=0.10.0 in c:\\users\\lina-\\documents\\proyectocomputacion\\venv\\lib\\site-packages (from boto3->deeplake) (0.10.1)\n",
      "Requirement already satisfied: colorama in c:\\users\\lina-\\documents\\proyectocomputacion\\venv\\lib\\site-packages (from click->deeplake) (0.4.6)\n",
      "Requirement already satisfied: ppft>=1.7.6.8 in c:\\users\\lina-\\documents\\proyectocomputacion\\venv\\lib\\site-packages (from pathos->deeplake) (1.7.6.8)\n",
      "Requirement already satisfied: dill>=0.3.8 in c:\\users\\lina-\\documents\\proyectocomputacion\\venv\\lib\\site-packages (from pathos->deeplake) (0.3.8)\n",
      "Requirement already satisfied: pox>=0.3.4 in c:\\users\\lina-\\documents\\proyectocomputacion\\venv\\lib\\site-packages (from pathos->deeplake) (0.3.4)\n",
      "Requirement already satisfied: multiprocess>=0.70.16 in c:\\users\\lina-\\documents\\proyectocomputacion\\venv\\lib\\site-packages (from pathos->deeplake) (0.70.16)\n",
      "Requirement already satisfied: annotated-types>=0.4.0 in c:\\users\\lina-\\documents\\proyectocomputacion\\venv\\lib\\site-packages (from pydantic->deeplake) (0.7.0)\n",
      "Requirement already satisfied: pydantic-core==2.18.4 in c:\\users\\lina-\\documents\\proyectocomputacion\\venv\\lib\\site-packages (from pydantic->deeplake) (2.18.4)\n",
      "Requirement already satisfied: typing-extensions>=4.6.1 in c:\\users\\lina-\\documents\\proyectocomputacion\\venv\\lib\\site-packages (from pydantic->deeplake) (4.12.1)\n",
      "Requirement already satisfied: python-dateutil<3.0.0,>=2.1 in c:\\users\\lina-\\documents\\proyectocomputacion\\venv\\lib\\site-packages (from botocore<1.35.0,>=1.34.119->boto3->deeplake) (2.9.0.post0)\n",
      "Requirement already satisfied: urllib3!=2.2.0,<3,>=1.25.4 in c:\\users\\lina-\\documents\\proyectocomputacion\\venv\\lib\\site-packages (from botocore<1.35.0,>=1.34.119->boto3->deeplake) (2.2.1)\n",
      "Requirement already satisfied: charset-normalizer<4,>=2 in c:\\users\\lina-\\documents\\proyectocomputacion\\venv\\lib\\site-packages (from requests->humbug>=0.3.1->deeplake) (3.3.2)\n",
      "Requirement already satisfied: idna<4,>=2.5 in c:\\users\\lina-\\documents\\proyectocomputacion\\venv\\lib\\site-packages (from requests->humbug>=0.3.1->deeplake) (3.7)\n",
      "Requirement already satisfied: certifi>=2017.4.17 in c:\\users\\lina-\\documents\\proyectocomputacion\\venv\\lib\\site-packages (from requests->humbug>=0.3.1->deeplake) (2024.6.2)\n",
      "Requirement already satisfied: six>=1.5 in c:\\users\\lina-\\documents\\proyectocomputacion\\venv\\lib\\site-packages (from python-dateutil<3.0.0,>=2.1->botocore<1.35.0,>=1.34.119->boto3->deeplake) (1.16.0)\n"
     ]
    }
   ],
   "source": [
    "!pip install deeplake"
   ]
  },
  {
   "cell_type": "code",
   "execution_count": 2,
   "metadata": {},
   "outputs": [],
   "source": [
    "import deeplake\n",
    "import os\n",
    "import random\n",
    "import numpy as np\n",
    "from PIL import Image, ImageFilter"
   ]
  },
  {
   "cell_type": "code",
   "execution_count": 3,
   "metadata": {},
   "outputs": [
    {
     "name": "stderr",
     "output_type": "stream",
     "text": [
      "-"
     ]
    },
    {
     "name": "stdout",
     "output_type": "stream",
     "text": [
      "Opening dataset in read-only mode as you don't have write permissions.\n"
     ]
    },
    {
     "name": "stderr",
     "output_type": "stream",
     "text": [
      "-"
     ]
    },
    {
     "name": "stdout",
     "output_type": "stream",
     "text": [
      "This dataset can be visualized in Jupyter Notebook by ds.visualize() or at https://app.activeloop.ai/activeloop/ffhq\n",
      "\n"
     ]
    },
    {
     "name": "stderr",
     "output_type": "stream",
     "text": [
      "\\"
     ]
    },
    {
     "name": "stdout",
     "output_type": "stream",
     "text": [
      "hub://activeloop/ffhq loaded successfully.\n",
      "\n"
     ]
    },
    {
     "name": "stderr",
     "output_type": "stream",
     "text": [
      "c:\\Users\\lina-\\Documents\\ProyectoComputacion\\venv\\Lib\\site-packages\\deeplake\\api\\dataset.py:841: UserWarning: Dataset has more than 20 tensors. Skipping integrity check. Specify `check_integrity=True` to perform integrity check.\n",
      "  warnings.warn(\n",
      "\n"
     ]
    }
   ],
   "source": [
    "# Cargar el dataset desde Deeplake\n",
    "ds = deeplake.load('hub://activeloop/ffhq')[3000:3700]"
   ]
  },
  {
   "cell_type": "code",
   "execution_count": 5,
   "metadata": {},
   "outputs": [],
   "source": [
    "# Define los directorios donde almacenar las imágenes\n",
    "base_dir = r'C:\\Users\\lina-\\Documents\\ProyectoComputacion\\Proyecto\\dataset'\n",
    "train_low_res_dir = os.path.join(base_dir, 'train/low_res')\n",
    "train_high_res_dir = os.path.join(base_dir, 'train/high_res')\n",
    "validation_low_res_dir = os.path.join(base_dir, 'validation/low_res')\n",
    "validation_high_res_dir = os.path.join(base_dir, 'validation/high_res')\n",
    "test_low_res_dir = os.path.join(base_dir, 'test/low_res')\n",
    "test_high_res_dir = os.path.join(base_dir, 'test/high_res')\n",
    "\n",
    "# Crea los directorios si no existen\n",
    "os.makedirs(train_low_res_dir, exist_ok=True)\n",
    "os.makedirs(train_high_res_dir, exist_ok=True)\n",
    "os.makedirs(validation_low_res_dir, exist_ok=True)\n",
    "os.makedirs(validation_high_res_dir, exist_ok=True)\n",
    "os.makedirs(test_low_res_dir, exist_ok=True)\n",
    "os.makedirs(test_high_res_dir, exist_ok=True)\n",
    "\n"
   ]
  },
  {
   "cell_type": "code",
   "execution_count": 6,
   "metadata": {},
   "outputs": [],
   "source": [
    "# Proporciones para entrenamiento, validación y prueba\n",
    "train_ratio = 0.7\n",
    "validation_ratio = 0.2\n",
    "test_ratio = 0.1\n",
    "\n",
    "# Generar listas de índices aleatorias para entrenamiento, validación y prueba\n",
    "total_images = len(ds['images_1024/image'])\n",
    "indices = list(range(total_images))\n",
    "random.shuffle(indices)\n",
    "\n",
    "train_end = int(total_images * train_ratio)\n",
    "validation_end = train_end + int(total_images * validation_ratio)\n",
    "\n",
    "train_indices = indices[:train_end]\n",
    "validation_indices = indices[train_end:validation_end]\n",
    "test_indices = indices[validation_end:]\n",
    "\n",
    "# Funciones para procesamiento de imágenes\n",
    "def lower_resolution(image, new_size):\n",
    "    return image.resize(new_size, Image.Resampling.LANCZOS)\n",
    "\n",
    "def blur_image(image, radius=1):\n",
    "    return image.filter(ImageFilter.GaussianBlur(radius))\n",
    "\n",
    "# Función para guardar la imagen\n",
    "def save_image(image, path):\n",
    "    image.save(path)\n",
    "\n",
    "# Procesar y guardar imágenes\n",
    "def process_and_save_images(indices, low_res_dir, high_res_dir):\n",
    "    for index in indices:\n",
    "        original_image = ds['images_1024/image'][index].numpy()\n",
    "        high_res_image = Image.fromarray(original_image)\n",
    "\n",
    "        # Guardar la imagen de alta resolución\n",
    "        save_image(high_res_image, os.path.join(high_res_dir, f'image_{index}.png'))\n",
    "\n",
    "        # Generar y guardar la imagen de baja resolución\n",
    "        low_res_image = lower_resolution(high_res_image, (64, 64))\n",
    "        save_image(low_res_image, os.path.join(low_res_dir, f'image_{index}_64x64.png'))\n",
    "\n",
    "        # Generar y guardar la imagen de baja resolución difuminada\n",
    "        blurred_image = blur_image(low_res_image, 0.42)\n",
    "        save_image(blurred_image, os.path.join(low_res_dir, f'image_{index}_64x64_blur0.42.png'))\n",
    "\n",
    "# Procesar imágenes de entrenamiento, validación y prueba\n",
    "process_and_save_images(train_indices, train_low_res_dir, train_high_res_dir)\n",
    "process_and_save_images(validation_indices, validation_low_res_dir, validation_high_res_dir)\n",
    "process_and_save_images(test_indices, test_low_res_dir, test_high_res_dir)\n"
   ]
  }
 ],
 "metadata": {
  "kernelspec": {
   "display_name": "venv",
   "language": "python",
   "name": "python3"
  },
  "language_info": {
   "codemirror_mode": {
    "name": "ipython",
    "version": 3
   },
   "file_extension": ".py",
   "mimetype": "text/x-python",
   "name": "python",
   "nbconvert_exporter": "python",
   "pygments_lexer": "ipython3",
   "version": "3.11.5"
  }
 },
 "nbformat": 4,
 "nbformat_minor": 2
}
